{
 "cells": [
  {
   "cell_type": "code",
   "execution_count": null,
   "metadata": {},
   "outputs": [],
   "source": [
    "!pip install sklearn\n",
    "!pip install tqdm\n",
    "from HeaderP import *\n",
    "!git clone https://github.com/illustristng/illustris_python.git illustris_python3\n",
    "!export PYTHONPATH=~/illustris_python3\n",
    "import illustris_python3 as il"
   ]
  },
  {
   "cell_type": "code",
   "execution_count": null,
   "metadata": {},
   "outputs": [],
   "source": [
    "basePath = 'SimulationData/L25n512TNG/output'"
   ]
  },
  {
   "cell_type": "code",
   "execution_count": null,
   "metadata": {},
   "outputs": [],
   "source": [
    "fields = ['SubhaloMass','SubhaloSFRinRad']\n",
    "subhalos = il.groupcat.loadSubhalos(basePath,99,fields=fields)\n",
    "subhaloids=np.array(range(len(subhalos['SubhaloMass'])))\n",
    "subhalos['SubhaloMass'].shape"
   ]
  },
  {
   "cell_type": "code",
   "execution_count": null,
   "metadata": {},
   "outputs": [],
   "source": [
    "import matplotlib.pyplot as plt\n",
    "mass_msun = subhalos['SubhaloMass'] * 1e10 / 0.704\n",
    "m=(mass_msun>8e11)&(mass_msun<2e12)\n",
    "MWlike=subhaloids[m]\n",
    "plt.plot(mass_msun,subhalos['SubhaloSFRinRad'],'k.')\n",
    "plt.plot(mass_msun[m],subhalos['SubhaloSFRinRad'][m],'r.')\n",
    "plt.xscale('log')\n",
    "plt.yscale('log')\n",
    "plt.xlabel('Total Mass [$M_\\odot$]')\n",
    "plt.ylabel('Star Formation Rate [$M_\\odot / yr$]')"
   ]
  },
  {
   "cell_type": "code",
   "execution_count": 1,
   "metadata": {},
   "outputs": [
    {
     "ename": "NameError",
     "evalue": "name 'il' is not defined",
     "output_type": "error",
     "traceback": [
      "\u001b[0;31m---------------------------------------------------------------------------\u001b[0m",
      "\u001b[0;31mNameError\u001b[0m                                 Traceback (most recent call last)",
      "\u001b[0;32m<ipython-input-1-a0b4872f5056>\u001b[0m in \u001b[0;36m<module>\u001b[0;34m\u001b[0m\n\u001b[1;32m      1\u001b[0m \u001b[0mh\u001b[0m\u001b[0;34m=\u001b[0m\u001b[0;36m0.704\u001b[0m\u001b[0;34m\u001b[0m\u001b[0;34m\u001b[0m\u001b[0m\n\u001b[0;32m----> 2\u001b[0;31m \u001b[0mGroupFirstSub\u001b[0m \u001b[0;34m=\u001b[0m \u001b[0mil\u001b[0m\u001b[0;34m.\u001b[0m\u001b[0mgroupcat\u001b[0m\u001b[0;34m.\u001b[0m\u001b[0mloadHalos\u001b[0m\u001b[0;34m(\u001b[0m\u001b[0mbasePath\u001b[0m\u001b[0;34m,\u001b[0m\u001b[0;36m99\u001b[0m\u001b[0;34m,\u001b[0m\u001b[0mfields\u001b[0m\u001b[0;34m=\u001b[0m\u001b[0;34m[\u001b[0m\u001b[0;34m'GroupFirstSub'\u001b[0m\u001b[0;34m,\u001b[0m\u001b[0;34m'Group_M_Crit200'\u001b[0m\u001b[0;34m]\u001b[0m\u001b[0;34m)\u001b[0m\u001b[0;34m\u001b[0m\u001b[0;34m\u001b[0m\u001b[0m\n\u001b[0m\u001b[1;32m      3\u001b[0m \u001b[0mm\u001b[0m\u001b[0;34m=\u001b[0m\u001b[0;34m(\u001b[0m\u001b[0mGroupFirstSub\u001b[0m\u001b[0;34m[\u001b[0m\u001b[0;34m'Group_M_Crit200'\u001b[0m\u001b[0;34m]\u001b[0m\u001b[0;34m*\u001b[0m\u001b[0;36m1e10\u001b[0m\u001b[0;34m/\u001b[0m\u001b[0mh\u001b[0m\u001b[0;34m>\u001b[0m\u001b[0;36m8e11\u001b[0m\u001b[0;34m)\u001b[0m\u001b[0;34m&\u001b[0m\u001b[0;34m(\u001b[0m\u001b[0mGroupFirstSub\u001b[0m\u001b[0;34m[\u001b[0m\u001b[0;34m'Group_M_Crit200'\u001b[0m\u001b[0;34m]\u001b[0m\u001b[0;34m*\u001b[0m\u001b[0;36m1e10\u001b[0m\u001b[0;34m/\u001b[0m\u001b[0mh\u001b[0m\u001b[0;34m<\u001b[0m\u001b[0;36m2e12\u001b[0m\u001b[0;34m)\u001b[0m\u001b[0;34m\u001b[0m\u001b[0;34m\u001b[0m\u001b[0m\n\u001b[1;32m      4\u001b[0m \u001b[0msubfindids\u001b[0m\u001b[0;34m=\u001b[0m\u001b[0mGroupFirstSub\u001b[0m\u001b[0;34m[\u001b[0m\u001b[0;34m'GroupFirstSub'\u001b[0m\u001b[0;34m]\u001b[0m\u001b[0;34m[\u001b[0m\u001b[0mm\u001b[0m\u001b[0;34m]\u001b[0m\u001b[0;34m\u001b[0m\u001b[0;34m\u001b[0m\u001b[0m\n\u001b[1;32m      5\u001b[0m \u001b[0msubfindids\u001b[0m\u001b[0;34m\u001b[0m\u001b[0;34m\u001b[0m\u001b[0m\n",
      "\u001b[0;31mNameError\u001b[0m: name 'il' is not defined"
     ]
    }
   ],
   "source": [
    "h=0.704\n",
    "GroupFirstSub = il.groupcat.loadHalos(basePath,99,fields=['GroupFirstSub','Group_M_Crit200'])\n",
    "m=(GroupFirstSub['Group_M_Crit200']*1e10/h>8e11)&(GroupFirstSub['Group_M_Crit200']*1e10/h<2e12)\n",
    "subfindids=GroupFirstSub['GroupFirstSub'][m]\n",
    "haloids=np.array(range(len(m)))[m]\n",
    "np.shape(subfindids)\n",
    "np.save('./home/MWmassSubid',subfindids)\n",
    "subfindids\n"
   ]
  },
  {
   "cell_type": "code",
   "execution_count": null,
   "metadata": {},
   "outputs": [],
   "source": [
    "starcount=np.zeros(len(subfindids))\n",
    "for ii in trange(len(subfindids)):\n",
    "    stars = il.snapshot.loadHalo(basePath,99,haloids[ii],'star')\n",
    "    starcount[ii]=stars['count']\n",
    "    "
   ]
  },
  {
   "cell_type": "code",
   "execution_count": null,
   "metadata": {},
   "outputs": [],
   "source": [
    "scale=100\n",
    "plt.figure()\n",
    "plt.plot(stars['Coordinates'][:,0],stars['Coordinates'][:,1],'k.',markersize=1)\n",
    "plt.xlim([np.median(stars['Coordinates'][:,0])-scale,\n",
    "          np.median(stars['Coordinates'][:,0])+scale])\n",
    "plt.ylim([np.median(stars['Coordinates'][:,1])-scale,\n",
    "          np.median(stars['Coordinates'][:,1])+scale])\n",
    "\n",
    "plt.figure()\n",
    "plt.plot(stars['Coordinates'][:,0],stars['Coordinates'][:,2],'k.',markersize=1)\n",
    "plt.xlim([np.median(stars['Coordinates'][:,0])-scale,\n",
    "          np.median(stars['Coordinates'][:,0])+scale])\n",
    "plt.ylim([np.median(stars['Coordinates'][:,2])-scale,\n",
    "          np.median(stars['Coordinates'][:,2])+scale])\n",
    "\n",
    "\n"
   ]
  },
  {
   "cell_type": "markdown",
   "metadata": {},
   "source": [
    "# all stars"
   ]
  },
  {
   "cell_type": "code",
   "execution_count": null,
   "metadata": {},
   "outputs": [],
   "source": [
    "star = il.snapshot.loadSubset(basePath,99,'star')\n",
    "\n",
    "!git clone https://github.com/lyx12311/Astraea.git\n",
    "!mv Astraea/Astraea/Astraea.py ./\n",
    "from Astraea import *\n",
    "\n",
    "data = pd.DataFrame(np.array((star['Coordinates'][:,0],star['Coordinates'][:,1],star['Coordinates'][:,2],\n",
    "                            star['GFM_Metallicity'],star['GFM_StellarFormationTime'],star['BirthPos'][:,0],\n",
    "                            star['BirthPos'][:,2],star['BirthPos'][:,2])).T,\n",
    "                   columns = ['x','y','z','feh','age','birthx','birthy','birthz'])\n",
    "\n",
    "\n",
    "\n"
   ]
  }
 ],
 "metadata": {
  "kernelspec": {
   "display_name": "Python 3",
   "language": "python",
   "name": "python3"
  },
  "language_info": {
   "codemirror_mode": {
    "name": "ipython",
    "version": 3
   },
   "file_extension": ".py",
   "mimetype": "text/x-python",
   "name": "python",
   "nbconvert_exporter": "python",
   "pygments_lexer": "ipython3",
   "version": "3.8.5"
  }
 },
 "nbformat": 4,
 "nbformat_minor": 4
}
