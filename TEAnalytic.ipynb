{
 "cells": [
  {
   "cell_type": "code",
   "execution_count": 1,
   "metadata": {},
   "outputs": [],
   "source": [
    "from HeaderP import *"
   ]
  },
  {
   "cell_type": "code",
   "execution_count": 2,
   "metadata": {},
   "outputs": [],
   "source": [
    "import Astraea"
   ]
  },
  {
   "cell_type": "markdown",
   "metadata": {},
   "source": [
    "# Tylor series with sympy"
   ]
  },
  {
   "cell_type": "code",
   "execution_count": null,
   "metadata": {},
   "outputs": [],
   "source": [
    "import sympy\n",
    "from sympy import series\n",
    "from sympy import Order\n",
    "feh, Cb, Cm, R0, τ, a, b, eps, Fm, gamma = sympy.symbols('[Fe/H] C_b C_m R_0 (τ/τ_{0}) a b eps F_m γ')\n",
    "\n",
    "f = (feh-Cb)/(a*sympy.ln(1-τ)+Cm)-b/(a+Cm/sympy.ln(1-τ))+R0"
   ]
  },
  {
   "cell_type": "markdown",
   "metadata": {},
   "source": [
    "## Minchev2018 Analytic:\n",
    "\n",
    "### assumptions:\n",
    "\n",
    "$\\nabla$\\[Fe/H\\]($\\tau/\\tau_0$) = a ln(1-$\\tau/\\tau_0$) + $C_m$\n",
    "\n",
    "\\[Fe/H\\]($R_0, \\tau/\\tau_0$) = b ln(1-$\\tau/\\tau_0$) + $C_b$\n",
    "\n",
    "$C_m := \\nabla\\rm{[Fe/H]}(0)$; $C_b := \\rm{[Fe/H]}(R_0, 0)$"
   ]
  },
  {
   "cell_type": "code",
   "execution_count": 69,
   "metadata": {},
   "outputs": [
    {
     "data": {
      "text/latex": [
       "$\\displaystyle R_{0} - \\frac{b}{\\frac{C_{m}}{\\log{\\left(1 - (τ/τ_{0}) \\right)}} + a} + \\frac{- C_{b} + [Fe/H]}{C_{m} + a \\log{\\left(1 - (τ/τ_{0}) \\right)}}$"
      ],
      "text/plain": [
       "R_0 - b/(C_m/log(1 - (τ/τ_{0})) + a) + (-C_b + [Fe/H])/(C_m + a*log(1 - (τ/τ_{0})))"
      ]
     },
     "execution_count": 69,
     "metadata": {},
     "output_type": "execute_result"
    }
   ],
   "source": [
    "f"
   ]
  },
  {
   "cell_type": "code",
   "execution_count": 70,
   "metadata": {},
   "outputs": [
    {
     "name": "stdout",
     "output_type": "stream",
     "text": [
      "Minchev2018: τ/τ_0 ~ 0\n"
     ]
    },
    {
     "data": {
      "text/latex": [
       "$\\displaystyle \\frac{[Fe/H]}{C_{m}} + R_{0} - \\frac{C_{b}}{C_{m}} + (τ/τ_{0}) \\left(- \\frac{C_{b} a}{C_{m}^{2}} + \\frac{b}{C_{m}} + \\frac{[Fe/H] a}{C_{m}^{2}}\\right) + (τ/τ_{0})^{2} \\left(- \\frac{C_{b} a}{2 C_{m}^{2}} - \\frac{C_{b} a^{2}}{C_{m}^{3}} + \\frac{b}{2 C_{m}} + \\frac{[Fe/H] a}{2 C_{m}^{2}} + \\frac{a b}{C_{m}^{2}} + \\frac{[Fe/H] a^{2}}{C_{m}^{3}}\\right) + O\\left((τ/τ_{0})^{3}\\right)$"
      ],
      "text/plain": [
       "[Fe/H]/C_m + R_0 - C_b/C_m + (τ/τ_{0})*(-C_b*a/C_m**2 + b/C_m + [Fe/H]*a/C_m**2) + (τ/τ_{0})**2*(-C_b*a/(2*C_m**2) - C_b*a**2/C_m**3 + b/(2*C_m) + [Fe/H]*a/(2*C_m**2) + a*b/C_m**2 + [Fe/H]*a**2/C_m**3) + O((τ/τ_{0})**3)"
      ]
     },
     "execution_count": 70,
     "metadata": {},
     "output_type": "execute_result"
    }
   ],
   "source": [
    "print('Minchev2018: τ/τ_0 ~ 0')\n",
    "minchev = series(f,τ,0)+Order(τ**3)\n",
    "minchev"
   ]
  },
  {
   "cell_type": "markdown",
   "metadata": {},
   "source": [
    "## Minchev2018 Analytic:\n",
    "\n",
    "### assumptions:\n",
    "\n",
    "$F_m$ = \\[Fe/H\\] (0,$\\tau = \\tau_0$)\n",
    "\n",
    "ISM time evolution is (1-$(\\tau/\\tau_0)^2$)"
   ]
  },
  {
   "cell_type": "code",
   "execution_count": 35,
   "metadata": {},
   "outputs": [
    {
     "name": "stdout",
     "output_type": "stream",
     "text": [
      "Frankle2018 Analytic:\n"
     ]
    },
    {
     "data": {
      "text/latex": [
       "$\\displaystyle \\left(1 - (τ/τ_{0})\\right)^{γ} \\left(- \\frac{C_{b}}{C_{m}} + R_{0} + \\frac{F_{m}}{C_{m}}\\right) - \\frac{F_{m}}{C_{m}} + \\frac{[Fe/H]}{C_{m}}$"
      ],
      "text/plain": [
       "(1 - (τ/τ_{0}))**γ*(-C_b/C_m + R_0 + F_m/C_m) - F_m/C_m + [Fe/H]/C_m"
      ]
     },
     "execution_count": 35,
     "metadata": {},
     "output_type": "execute_result"
    }
   ],
   "source": [
    "f2 = feh/Cm-Fm/Cm+(Fm/Cm+R0-Cb/Cm)*(1-τ)**gamma\n",
    "print('Frankle2018 Analytic:')\n",
    "f2"
   ]
  },
  {
   "cell_type": "code",
   "execution_count": 30,
   "metadata": {},
   "outputs": [
    {
     "name": "stdout",
     "output_type": "stream",
     "text": [
      "Frankle2018: τ/τ_0 ~ 0\n"
     ]
    },
    {
     "data": {
      "text/latex": [
       "$\\displaystyle \\frac{[Fe/H]}{C_{m}} + R_{0} - \\frac{C_{b}}{C_{m}} + (τ/τ_{0}) \\left(\\frac{C_{b} γ}{C_{m}} - R_{0} γ - \\frac{F_{m} γ}{C_{m}}\\right) + (τ/τ_{0})^{2} \\left(- \\frac{C_{b} γ^{2}}{2 C_{m}} + \\frac{C_{b} γ}{2 C_{m}} + \\frac{R_{0} γ^{2}}{2} - \\frac{R_{0} γ}{2} + \\frac{F_{m} γ^{2}}{2 C_{m}} - \\frac{F_{m} γ}{2 C_{m}}\\right) + O\\left((τ/τ_{0})^{3}\\right)$"
      ],
      "text/plain": [
       "[Fe/H]/C_m + R_0 - C_b/C_m + (τ/τ_{0})*(C_b*γ/C_m - R_0*γ - F_m*γ/C_m) + (τ/τ_{0})**2*(-C_b*γ**2/(2*C_m) + C_b*γ/(2*C_m) + R_0*γ**2/2 - R_0*γ/2 + F_m*γ**2/(2*C_m) - F_m*γ/(2*C_m)) + O((τ/τ_{0})**3)"
      ]
     },
     "execution_count": 30,
     "metadata": {},
     "output_type": "execute_result"
    }
   ],
   "source": [
    "print('Frankle2018: τ/τ_0 ~ 0')\n",
    "frankle = series(f2,τ,0)+Order(τ**3)\n",
    "frankle"
   ]
  },
  {
   "cell_type": "code",
   "execution_count": 37,
   "metadata": {},
   "outputs": [
    {
     "data": {
      "text/latex": [
       "$\\displaystyle - (τ/τ_{0}) \\left(\\frac{C_{b} γ}{C_{m}} - R_{0} γ - \\frac{F_{m} γ}{C_{m}}\\right) + (τ/τ_{0}) \\left(- \\frac{C_{b} a}{C_{m}^{2}} + \\frac{b}{C_{m}} + \\frac{[Fe/H] a}{C_{m}^{2}}\\right) - (τ/τ_{0})^{2} \\left(- \\frac{C_{b} γ^{2}}{2 C_{m}} + \\frac{C_{b} γ}{2 C_{m}} + \\frac{R_{0} γ^{2}}{2} - \\frac{R_{0} γ}{2} + \\frac{F_{m} γ^{2}}{2 C_{m}} - \\frac{F_{m} γ}{2 C_{m}}\\right) + (τ/τ_{0})^{2} \\left(- \\frac{C_{b} a}{2 C_{m}^{2}} - \\frac{C_{b} a^{2}}{C_{m}^{3}} + \\frac{b}{2 C_{m}} + \\frac{[Fe/H] a}{2 C_{m}^{2}} + \\frac{a b}{C_{m}^{2}} + \\frac{[Fe/H] a^{2}}{C_{m}^{3}}\\right) + O\\left((τ/τ_{0})^{3}\\right)$"
      ],
      "text/plain": [
       "-(τ/τ_{0})*(C_b*γ/C_m - R_0*γ - F_m*γ/C_m) + (τ/τ_{0})*(-C_b*a/C_m**2 + b/C_m + [Fe/H]*a/C_m**2) - (τ/τ_{0})**2*(-C_b*γ**2/(2*C_m) + C_b*γ/(2*C_m) + R_0*γ**2/2 - R_0*γ/2 + F_m*γ**2/(2*C_m) - F_m*γ/(2*C_m)) + (τ/τ_{0})**2*(-C_b*a/(2*C_m**2) - C_b*a**2/C_m**3 + b/(2*C_m) + [Fe/H]*a/(2*C_m**2) + a*b/C_m**2 + [Fe/H]*a**2/C_m**3) + O((τ/τ_{0})**3)"
      ]
     },
     "execution_count": 37,
     "metadata": {},
     "output_type": "execute_result"
    }
   ],
   "source": [
    "diff = minchev - frankle\n",
    "diff"
   ]
  },
  {
   "cell_type": "code",
   "execution_count": 43,
   "metadata": {},
   "outputs": [
    {
     "name": "stdout",
     "output_type": "stream",
     "text": [
      "τ coefficients\n"
     ]
    },
    {
     "data": {
      "text/latex": [
       "$\\displaystyle - \\frac{C_{b} γ}{C_{m}} - \\frac{C_{b} a}{C_{m}^{2}} + R_{0} γ + \\frac{F_{m} γ}{C_{m}} + \\frac{b}{C_{m}} + \\frac{[Fe/H] a}{C_{m}^{2}}$"
      ],
      "text/plain": [
       "-C_b*γ/C_m - C_b*a/C_m**2 + R_0*γ + F_m*γ/C_m + b/C_m + [Fe/H]*a/C_m**2"
      ]
     },
     "execution_count": 43,
     "metadata": {},
     "output_type": "execute_result"
    }
   ],
   "source": [
    "print('τ coefficients')\n",
    "diff.coeff(τ)"
   ]
  },
  {
   "cell_type": "code",
   "execution_count": 46,
   "metadata": {},
   "outputs": [
    {
     "data": {
      "text/latex": [
       "$\\displaystyle - \\frac{C_{b}}{C_{m}} + R_{0} + \\frac{F_{m}}{C_{m}}$"
      ],
      "text/plain": [
       "-C_b/C_m + R_0 + F_m/C_m"
      ]
     },
     "execution_count": 46,
     "metadata": {},
     "output_type": "execute_result"
    }
   ],
   "source": [
    "diff.coeff(τ).coeff(gamma)"
   ]
  },
  {
   "cell_type": "code",
   "execution_count": 41,
   "metadata": {},
   "outputs": [
    {
     "name": "stdout",
     "output_type": "stream",
     "text": [
      "τ^2 coefficients\n"
     ]
    },
    {
     "data": {
      "text/latex": [
       "$\\displaystyle \\frac{C_{b} γ^{2}}{2 C_{m}} - \\frac{C_{b} γ}{2 C_{m}} - \\frac{C_{b} a}{2 C_{m}^{2}} - \\frac{C_{b} a^{2}}{C_{m}^{3}} - \\frac{R_{0} γ^{2}}{2} + \\frac{R_{0} γ}{2} - \\frac{F_{m} γ^{2}}{2 C_{m}} + \\frac{F_{m} γ}{2 C_{m}} + \\frac{b}{2 C_{m}} + \\frac{[Fe/H] a}{2 C_{m}^{2}} + \\frac{a b}{C_{m}^{2}} + \\frac{[Fe/H] a^{2}}{C_{m}^{3}}$"
      ],
      "text/plain": [
       "C_b*γ**2/(2*C_m) - C_b*γ/(2*C_m) - C_b*a/(2*C_m**2) - C_b*a**2/C_m**3 - R_0*γ**2/2 + R_0*γ/2 - F_m*γ**2/(2*C_m) + F_m*γ/(2*C_m) + b/(2*C_m) + [Fe/H]*a/(2*C_m**2) + a*b/C_m**2 + [Fe/H]*a**2/C_m**3"
      ]
     },
     "execution_count": 41,
     "metadata": {},
     "output_type": "execute_result"
    }
   ],
   "source": [
    "print('τ^2 coefficients')\n",
    "\n",
    "diff.coeff(τ**2)"
   ]
  },
  {
   "cell_type": "markdown",
   "metadata": {},
   "source": [
    "From assuming $\\gamma$ term is 0 and the rest is 0 for O($\\tau/\\tau_0$) term, get:\n",
    "\n",
    "$F_m = C_b - C_m R_0$ \n",
    "\n",
    "and\n",
    "\n",
    "\\[Fe/H\\] = $C_b$ - $\\frac{b}{a}C_m$\n",
    "\n",
    "Subsitute that in O($(\\tau/\\tau_0)^2$), get"
   ]
  },
  {
   "cell_type": "code",
   "execution_count": 83,
   "metadata": {},
   "outputs": [
    {
     "data": {
      "text/latex": [
       "$\\displaystyle 0$"
      ],
      "text/plain": [
       "0"
      ]
     },
     "execution_count": 83,
     "metadata": {},
     "output_type": "execute_result"
    }
   ],
   "source": [
    "t2 = diff.coeff(τ**2)\n",
    "\n",
    "sympy.simplify(t2.subs(Fm, Cb-Cm*R0).subs(feh, Cb-b*Cm/a))"
   ]
  },
  {
   "cell_type": "markdown",
   "metadata": {},
   "source": [
    "So the limit when $\\tau/\\tau_0$ ~ 0, we get the same limit if we assume the functional form of $F_m$ and \\[Fe/H\\] as above."
   ]
  },
  {
   "cell_type": "code",
   "execution_count": null,
   "metadata": {},
   "outputs": [],
   "source": []
  }
 ],
 "metadata": {
  "kernelspec": {
   "display_name": "Python 3",
   "language": "python",
   "name": "python3"
  },
  "language_info": {
   "codemirror_mode": {
    "name": "ipython",
    "version": 3
   },
   "file_extension": ".py",
   "mimetype": "text/x-python",
   "name": "python",
   "nbconvert_exporter": "python",
   "pygments_lexer": "ipython3",
   "version": "3.8.5"
  }
 },
 "nbformat": 4,
 "nbformat_minor": 4
}
